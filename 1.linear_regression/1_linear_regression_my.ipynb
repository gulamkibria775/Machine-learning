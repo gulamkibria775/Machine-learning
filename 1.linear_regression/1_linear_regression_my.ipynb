{
 "cells": [
  {
   "cell_type": "code",
   "execution_count": 25,
   "id": "5dfa591d",
   "metadata": {},
   "outputs": [],
   "source": [
    "class My_lr:\n",
    "    \n",
    "    def __init__(self):\n",
    "        self.m = None\n",
    "        self.b = None\n",
    "        \n",
    "    def fit(self,X_train,y_train):\n",
    "        \n",
    "        num = 0\n",
    "        den = 0\n",
    "        \n",
    "        for i in range(X_train.shape[0]):\n",
    "            X_train = np.array(X_train).flatten()  # force 1D array\n",
    "            y_train = np.array(y_train)\n",
    "            \n",
    "            num = num + ((X_train[i] - X_train.mean())*(y_train[i] - y_train.mean()))\n",
    "            den = den + ((X_train[i] - X_train.mean())*(X_train[i] - X_train.mean()))\n",
    "        \n",
    "        self.m = num/den\n",
    "        self.b = y_train.mean() - (self.m * X_train.mean())\n",
    "        print(self.m)\n",
    "        print(self.b)       \n",
    "    \n",
    "    def predict(self,X_test):\n",
    "        \n",
    "        print(X_test)\n",
    "        \n",
    "        return self.m * X_test + self.b"
   ]
  },
  {
   "cell_type": "code",
   "execution_count": 26,
   "id": "de21bdc3",
   "metadata": {},
   "outputs": [],
   "source": [
    "import numpy as np\n",
    "import pandas as pd"
   ]
  },
  {
   "cell_type": "code",
   "execution_count": 27,
   "id": "7800e93a",
   "metadata": {},
   "outputs": [],
   "source": [
    "df=pd.read_csv(\"placement.csv\")"
   ]
  },
  {
   "cell_type": "code",
   "execution_count": 28,
   "id": "a91ad2c1",
   "metadata": {},
   "outputs": [],
   "source": [
    "x=df.iloc[:,0:1]\n",
    "y=df.iloc[:,-1]"
   ]
  },
  {
   "cell_type": "code",
   "execution_count": 29,
   "id": "32ed7b6a",
   "metadata": {},
   "outputs": [],
   "source": [
    "from sklearn.model_selection import train_test_split\n",
    "x_train,x_test,y_train,y_test=train_test_split(x,y,test_size=.2,random_state=42)"
   ]
  },
  {
   "cell_type": "code",
   "execution_count": 30,
   "id": "4a8d4287",
   "metadata": {},
   "outputs": [],
   "source": [
    "lr=My_lr()"
   ]
  },
  {
   "cell_type": "code",
   "execution_count": 31,
   "id": "217bebaf",
   "metadata": {},
   "outputs": [
    {
     "name": "stdout",
     "output_type": "stream",
     "text": [
      "0.5742564727019197\n",
      "-1.0270069374542108\n"
     ]
    }
   ],
   "source": [
    "lr.fit(x_train,y_train)"
   ]
  },
  {
   "cell_type": "code",
   "execution_count": 32,
   "id": "54501e03",
   "metadata": {},
   "outputs": [
    {
     "name": "stdout",
     "output_type": "stream",
     "text": [
      "     cgpa\n",
      "95   6.63\n",
      "15   7.25\n",
      "30   7.36\n",
      "158  5.95\n",
      "128  7.93\n",
      "115  8.35\n",
      "69   7.30\n",
      "170  6.22\n",
      "174  7.32\n",
      "45   7.87\n",
      "66   5.11\n",
      "182  5.88\n",
      "165  8.21\n",
      "78   6.59\n",
      "186  7.84\n",
      "177  7.09\n",
      "56   5.84\n",
      "152  7.37\n",
      "82   5.58\n",
      "68   7.56\n",
      "124  6.06\n",
      "16   6.84\n",
      "148  7.57\n",
      "93   6.79\n",
      "65   7.60\n",
      "60   5.61\n",
      "84   4.26\n",
      "67   6.51\n",
      "125  7.33\n",
      "132  5.84\n",
      "9    8.31\n",
      "18   6.94\n",
      "55   8.20\n",
      "75   6.97\n",
      "150  6.30\n",
      "104  7.62\n",
      "135  6.10\n",
      "137  7.14\n",
      "164  9.06\n",
      "76   6.94\n"
     ]
    }
   ],
   "source": [
    "y_predic=lr.predict(x_test)"
   ]
  },
  {
   "cell_type": "code",
   "execution_count": null,
   "id": "b6d83ec8",
   "metadata": {},
   "outputs": [],
   "source": []
  }
 ],
 "metadata": {
  "kernelspec": {
   "display_name": "Python (dl_env)",
   "language": "python",
   "name": "dl_env"
  },
  "language_info": {
   "codemirror_mode": {
    "name": "ipython",
    "version": 3
   },
   "file_extension": ".py",
   "mimetype": "text/x-python",
   "name": "python",
   "nbconvert_exporter": "python",
   "pygments_lexer": "ipython3",
   "version": "3.12.3"
  }
 },
 "nbformat": 4,
 "nbformat_minor": 5
}
